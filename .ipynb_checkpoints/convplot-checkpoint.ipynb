{
 "cells": [
  {
   "cell_type": "code",
   "execution_count": 1,
   "metadata": {},
   "outputs": [],
   "source": [
    "import plotly.graph_objects as go\n",
    "import plotly.express as px \n",
    "import numpy as np\n",
    "import pandas as pd\n",
    "from jupyter_dash import JupyterDash\n",
    "import dash_core_components as dcc\n",
    "import dash_html_components as html\n",
    "from dash.dependencies import Input, Output, State"
   ]
  },
  {
   "cell_type": "code",
   "execution_count": 2,
   "metadata": {},
   "outputs": [],
   "source": [
    "def f(x: float) -> float:\n",
    "    if x >= 1.0 and x < 1.5:\n",
    "        return 2 * x - 2\n",
    "    elif x >= 1.5 and x < 4.5:\n",
    "        return 1\n",
    "    elif x >= 4.5 and x < 5.0:\n",
    "        return -2 * x + 10.0\n",
    "    return 0.0\n",
    "\n",
    "def g(x: float) -> float:\n",
    "    if x >= -5.0 and x < -4.5:\n",
    "        return 2 * x + 10\n",
    "    elif x >= -4.5 and x < -1.5:\n",
    "        return 1\n",
    "    elif x >= -1.5 and x < -1.0:\n",
    "        return -2 * x - 2.0\n",
    "    return 0.0\n",
    "\n",
    "center_f = 3\n",
    "center_g = -3"
   ]
  },
  {
   "cell_type": "code",
   "execution_count": 3,
   "metadata": {},
   "outputs": [
    {
     "data": {
      "text/html": [
       "\n",
       "        <iframe\n",
       "            width=\"800\"\n",
       "            height=\"650\"\n",
       "            src=\"http://127.0.0.1:8050/\"\n",
       "            frameborder=\"0\"\n",
       "            allowfullscreen\n",
       "        ></iframe>\n",
       "        "
      ],
      "text/plain": [
       "<IPython.lib.display.IFrame at 0x7f90d78b61f0>"
      ]
     },
     "metadata": {},
     "output_type": "display_data"
    }
   ],
   "source": [
    "timespan = np.linspace(-10, 10, 200)\n",
    "df = pd.DataFrame(dict(t=timespan,\n",
    "                       f_values=[f(t) for t in timespan],\n",
    "                       g_values=[g(t) for t in timespan]))\n",
    "\n",
    "fig = px.line(df, x='t', y=['f_values', 'g_values'])\n",
    "\n",
    "app = JupyterDash('init_plot_app')\n",
    "app.layout = html.Div([\n",
    "    dcc.Graph(id = 'init_plot', figure = fig),\n",
    "])\n",
    "app.run_server(mode='inline')"
   ]
  },
  {
   "cell_type": "code",
   "execution_count": 4,
   "metadata": {},
   "outputs": [],
   "source": [
    "slider_smooth = 5\n",
    "timespan_range_len = (abs(min(timespan)) + max(timespan))\n",
    "\n",
    "c_total = np.convolve([f(t) for t in timespan],  # fixed\n",
    "                      [g(t) for t in timespan])  # sliding\n",
    "c_total /= sum([g(t) for t in timespan])\n",
    "c_limit = int((abs(min(timespan)) + center_g) * (len(timespan) / timespan_range_len))\n",
    "c_total = c_total[c_limit:c_limit+len(timespan)]"
   ]
  },
  {
   "cell_type": "code",
   "execution_count": 5,
   "metadata": {},
   "outputs": [],
   "source": [
    "app = JupyterDash('interact_conv_plot_app')\n",
    "app.layout = html.Div([\n",
    "    \n",
    "    dcc.Graph(id = 'conv_plot'),\n",
    "    \n",
    "    html.Div([\n",
    "        html.Div([\n",
    "            dcc.Slider(id = 'time_slider',\n",
    "                       step = timespan_range_len / len(timespan),\n",
    "                       min = min(timespan),\n",
    "                       max = max(timespan),\n",
    "                       value = center_g)],\n",
    "            style={\n",
    "                'width': '85%',\n",
    "                'padding': '5px 0px 0px 50px'\n",
    "            },\n",
    "        ),\n",
    "        html.Div([\n",
    "            html.Button('PLAY',\n",
    "                        id='play_btn',\n",
    "                        n_clicks=0)],\n",
    "            style={\n",
    "                'position': 'relative',\n",
    "                'top': '-40px',\n",
    "            },\n",
    "        )\n",
    "    ]),\n",
    "    \n",
    "    dcc.Interval(id='interval_component',\n",
    "                 interval=100, # in milliseconds\n",
    "                 n_intervals=0)\n",
    "],\n",
    "style={'backgroundColor': '#ffffff'},\n",
    ")"
   ]
  },
  {
   "cell_type": "code",
   "execution_count": 6,
   "metadata": {},
   "outputs": [],
   "source": [
    "def update_graphs(slider_value: float):\n",
    "    f_arr = [f(t) for t in timespan]\n",
    "    g_arr = [g(t-slider_value+center_g) for t in timespan]\n",
    "    c_limit = int((abs(min(timespan)) + slider_value) * (len(timespan) / timespan_range_len))\n",
    "    c_arr = np.copy(c_total)\n",
    "    c_arr[int(c_limit):] = np.nan\n",
    "    data = {\n",
    "        't': timespan,\n",
    "        'f': f_arr,\n",
    "        'g': g_arr,\n",
    "        'c': c_arr\n",
    "    }\n",
    "    return px.line(pd.DataFrame(data), x='t', y=['f', 'g', 'c'])\n",
    "\n",
    "@app.callback(\n",
    "    [\n",
    "        Output(component_id='conv_plot', component_property='figure'),\n",
    "        Output(component_id='time_slider', component_property='value'),\n",
    "    ],\n",
    "    [\n",
    "        Input(component_id='play_btn', component_property='n_clicks'),\n",
    "        Input(component_id='interval_component', component_property='n_intervals')\n",
    "    ],\n",
    "    [\n",
    "        State(component_id='time_slider', component_property='value'),\n",
    "    ]\n",
    ")\n",
    "def update_plot(n_clicks, n_intervals, slider_value):\n",
    "    \n",
    "    # play button pressed -> enter auto play mode\n",
    "    if n_clicks != 0 and not n_clicks % 2:\n",
    "        slider_value += 0.1\n",
    "        return update_graphs(slider_value), slider_value\n",
    "        \n",
    "    # play button not pressed -> enter slider mode\n",
    "    else:\n",
    "        return update_graphs(slider_value), slider_value"
   ]
  },
  {
   "cell_type": "code",
   "execution_count": 7,
   "metadata": {},
   "outputs": [
    {
     "data": {
      "text/html": [
       "\n",
       "        <iframe\n",
       "            width=\"800\"\n",
       "            height=\"650\"\n",
       "            src=\"http://127.0.0.1:8050/\"\n",
       "            frameborder=\"0\"\n",
       "            allowfullscreen\n",
       "        ></iframe>\n",
       "        "
      ],
      "text/plain": [
       "<IPython.lib.display.IFrame at 0x7f90d83af370>"
      ]
     },
     "metadata": {},
     "output_type": "display_data"
    }
   ],
   "source": [
    "app.run_server(mode='inline')"
   ]
  },
  {
   "cell_type": "code",
   "execution_count": null,
   "metadata": {},
   "outputs": [],
   "source": []
  }
 ],
 "metadata": {
  "kernelspec": {
   "display_name": "Python 3",
   "language": "python",
   "name": "python3"
  },
  "language_info": {
   "codemirror_mode": {
    "name": "ipython",
    "version": 3
   },
   "file_extension": ".py",
   "mimetype": "text/x-python",
   "name": "python",
   "nbconvert_exporter": "python",
   "pygments_lexer": "ipython3",
   "version": "3.8.3"
  }
 },
 "nbformat": 4,
 "nbformat_minor": 4
}
